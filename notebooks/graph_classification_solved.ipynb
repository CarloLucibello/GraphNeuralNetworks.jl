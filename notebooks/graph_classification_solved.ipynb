{
 "cells": [
  {
   "attachments": {},
   "cell_type": "markdown",
   "metadata": {},
   "source": [
    "# Graph Classification with Graph Neural Networks\n",
    "\n",
    "*This noteboook is a julia adaptation of the Pytorch Geometric tutorials that can be found [here](https://pytorch-geometric.readthedocs.io/en/latest/notes/colabs.html).*\n",
    "\n",
    "In this tutorial session we will have a closer look at how to apply **Graph Neural Networks (GNNs) to the task of graph classification**.\n",
    "Graph classification refers to the problem of classifiying entire graphs (in contrast to nodes), given a **dataset of graphs**, based on some structural graph properties.\n",
    "Here, we want to embed entire graphs, and we want to embed those graphs in such a way so that they are linearly separable given a task at hand.\n",
    "\n",
    "\n",
    "The most common task for graph classification is **molecular property prediction**, in which molecules are represented as graphs, and the task may be to infer whether a molecule inhibits HIV virus replication or not.\n",
    "\n",
    "The TU Dortmund University has collected a wide range of different graph classification datasets, known as the [**TUDatasets**](https://chrsmrrs.github.io/datasets/), which are also accessible via MLDatasets.jl.\n",
    "Let's load and inspect one of the smaller ones, the **MUTAG dataset**:\n"
   ]
  },
  {
   "cell_type": "code",
   "execution_count": 1,
   "metadata": {},
   "outputs": [],
   "source": [
    "using Flux\n",
    "using Flux: DataLoader\n",
    "using Flux: logitcrossentropy, onecold, onehotbatch\n",
    "using GraphNeuralNetworks\n",
    "using LinearAlgebra\n",
    "using MLDatasets\n",
    "using Random\n",
    "using Statistics\n",
    "Random.seed!(1);"
   ]
  },
  {
   "cell_type": "code",
   "execution_count": 2,
   "metadata": {},
   "outputs": [
    {
     "data": {
      "text/plain": [
       "dataset TUDataset:\n",
       "  name        =>    MUTAG\n",
       "  metadata    =>    Dict{String, Any} with 1 entry\n",
       "  graphs      =>    188-element Vector{MLDatasets.Graph}\n",
       "  graph_data  =>    (targets = \"188-element Vector{Int64}\",)\n",
       "  num_nodes   =>    3371\n",
       "  num_edges   =>    7442\n",
       "  num_graphs  =>    188"
      ]
     },
     "metadata": {},
     "output_type": "display_data"
    }
   ],
   "source": [
    "dataset = TUDataset(\"MUTAG\")\n"
   ]
  },
  {
   "cell_type": "code",
   "execution_count": 3,
   "metadata": {},
   "outputs": [
    {
     "data": {
      "text/plain": [
       "2-element Vector{Int64}:\n",
       "  1\n",
       " -1"
      ]
     },
     "metadata": {},
     "output_type": "display_data"
    }
   ],
   "source": [
    "dataset.graph_data.targets |> union\n"
   ]
  },
  {
   "cell_type": "code",
   "execution_count": 4,
   "metadata": {},
   "outputs": [
    {
     "data": {
      "text/plain": [
       "(graphs = Graph(17, 38), targets = 1)"
      ]
     },
     "metadata": {},
     "output_type": "display_data"
    }
   ],
   "source": [
    "g1, y1  = dataset[1] #get the first graph and target\n"
   ]
  },
  {
   "cell_type": "code",
   "execution_count": 5,
   "metadata": {},
   "outputs": [
    {
     "data": {
      "text/plain": [
       "7-element Vector{Int64}:\n",
       " 0\n",
       " 1\n",
       " 2\n",
       " 3\n",
       " 4\n",
       " 5\n",
       " 6"
      ]
     },
     "metadata": {},
     "output_type": "display_data"
    }
   ],
   "source": [
    "reduce(vcat, g.node_data.targets for (g,_) in dataset) |> union"
   ]
  },
  {
   "cell_type": "code",
   "execution_count": 6,
   "metadata": {},
   "outputs": [
    {
     "data": {
      "text/plain": [
       "4-element Vector{Int64}:\n",
       " 0\n",
       " 1\n",
       " 2\n",
       " 3"
      ]
     },
     "metadata": {},
     "output_type": "display_data"
    }
   ],
   "source": [
    "reduce(vcat, g.edge_data.targets for (g,_) in dataset)|> union"
   ]
  },
  {
   "attachments": {},
   "cell_type": "markdown",
   "metadata": {},
   "source": [
    "This dataset provides **188 different graphs**, and the task is to classify each graph into **one out of two classes**.\n",
    "\n",
    "By inspecting the first graph object of the dataset, we can see that it comes with **17 nodes** and **38 edges**.\n",
    "It also comes with exactly **one graph label**, and provides additional node labels (7 classes) and edge labels (4 classes).\n",
    "However, for the sake of simplicity, we will not make use of edge labels.\n",
    "\n",
    "We have some useful utilities for working with graph datasets, *e.g.*, we can shuffle the dataset and use the first 150 graphs as training graphs, while using the remaining ones for testing:"
   ]
  },
  {
   "cell_type": "code",
   "execution_count": 7,
   "metadata": {},
   "outputs": [],
   "source": [
    "graphs = mldataset2gnngraph(dataset)\n",
    "graphs = [GNNGraph(g, \n",
    "\t\t\t\t\tndata=Float32.(onehotbatch(g.ndata.targets, 0:6)),\n",
    "\t\t\t\t\tedata=nothing) \n",
    "\t\t\tfor g in graphs]\n",
    "\n",
    "shuffled_idxs = randperm(length(graphs))\n",
    "train_idxs = shuffled_idxs[1:150]\n",
    "test_idxs = shuffled_idxs[151:end]\n",
    "train_graphs = graphs[train_idxs]\n",
    "test_graphs = graphs[test_idxs]\n",
    "ytrain = onehotbatch(dataset.graph_data.targets[train_idxs], [-1, 1])\n",
    "ytest = onehotbatch(dataset.graph_data.targets[test_idxs], [-1, 1]);"
   ]
  },
  {
   "attachments": {},
   "cell_type": "markdown",
   "metadata": {},
   "source": [
    "## Mini-batching of graphs\n",
    "\n",
    "Since graphs in graph classification datasets are usually small, a good idea is to **batch the graphs** before inputting them into a Graph Neural Network to guarantee full GPU utilization.\n",
    "In the image or language domain, this procedure is typically achieved by **rescaling** or **padding** each example into a set of equally-sized shapes, and examples are then grouped in an additional dimension.\n",
    "The length of this dimension is then equal to the number of examples grouped in a mini-batch and is typically referred to as the `batchsize`.\n",
    "\n",
    "However, for GNNs the two approaches described above are either not feasible or may result in a lot of unnecessary memory consumption.\n",
    "Therefore, GNN.jl opts for another approach to achieve parallelization across a number of examples. Here, adjacency matrices are stacked in a diagonal fashion (creating a giant graph that holds multiple isolated subgraphs), and node and target features are simply concatenated in the node dimension (the last dimension).\n",
    "\n",
    "This procedure has some crucial advantages over other batching procedures:\n",
    "\n",
    "1. GNN operators that rely on a message passing scheme do not need to be modified since messages are not exchanged between two nodes that belong to different graphs.\n",
    "\n",
    "2. There is no computational or memory overhead since adjacency matrices are saved in a sparse fashion holding only non-zero entries, *i.e.*, the edges.\n",
    "\n",
    "GNN.jl can **batch multiple graphs into a single giant graph** with the help of `collate` option of `DataLoader` that implicitly calls `Flux.batch` on the data:"
   ]
  },
  {
   "cell_type": "code",
   "execution_count": 8,
   "metadata": {},
   "outputs": [
    {
     "data": {
      "text/plain": [
       "4-element DataLoader(::Tuple{Vector{GNNGraph{Tuple{Vector{Int64}, Vector{Int64}, Nothing}}}, OneHotArrays.OneHotMatrix{UInt32, Vector{UInt32}}}, batchsize=10, collate=Val{true}())\n",
       "  with first element:\n",
       "  (GNNGraph{Tuple{Vector{Int64}, Vector{Int64}, Nothing}}, 2×10 OneHotMatrix(::Vector{UInt32}) with eltype Bool,)"
      ]
     },
     "metadata": {},
     "output_type": "display_data"
    }
   ],
   "source": [
    "train_loader = DataLoader((train_graphs, ytrain), batchsize=64, shuffle=true, collate=true)\n",
    "test_loader = DataLoader((test_graphs, ytest), batchsize=10, shuffle=false, collate=true)"
   ]
  },
  {
   "cell_type": "code",
   "execution_count": 9,
   "metadata": {},
   "outputs": [
    {
     "data": {
      "text/plain": [
       "(GNNGraph(1169, 2592) with x: 7×1169 data, Bool[1 0 … 0 0; 0 1 … 1 1])"
      ]
     },
     "metadata": {},
     "output_type": "display_data"
    }
   ],
   "source": [
    "first(train_loader)"
   ]
  },
  {
   "cell_type": "code",
   "execution_count": 10,
   "metadata": {},
   "outputs": [
    {
     "data": {
      "text/plain": [
       "GNNGraph:\n",
       "  num_nodes: 1183\n",
       "  num_edges: 2630\n",
       "  num_graphs: 64\n",
       "  ndata:\n",
       "\tx = 7×1183 Matrix{Float32}"
      ]
     },
     "metadata": {},
     "output_type": "display_data"
    }
   ],
   "source": [
    "Flux.batch(train_graphs[1:64])"
   ]
  },
  {
   "attachments": {},
   "cell_type": "markdown",
   "metadata": {},
   "source": [
    "Here, we opt for a `batch_size` of 64, leading to 3 (randomly shuffled) mini-batches, containing all $2 \\cdot 64+22 = 150$ graphs.\n",
    "\n",
    "Furthermore, each batched graph object is equipped with a **`graph_indicator` vector**, which maps each node to its respective graph in the batch:\n",
    "\n",
    "$\n",
    "\\textrm{graph-indicator} = [1, \\ldots, 1, 2, \\ldots, 2, 3, \\ldots ]\n",
    "$\n",
    "\n",
    "## Training a Graph Neural Network (GNN)\n",
    "\n",
    "Training a GNN for graph classification usually follows a simple recipe:\n",
    "\n",
    "1. Embed each node by performing multiple rounds of message passing\n",
    "2. Aggregate node embeddings into a unified graph embedding (**readout layer**)\n",
    "3. Train a final classifier on the graph embedding\n",
    "\n",
    "There exists multiple **readout layers** in literature, but the most common one is to simply take the average of node embeddings:\n",
    "\n",
    "$$\n",
    "\\mathbf{x}_{\\mathcal{G}} = \\frac{1}{|\\mathcal{V}|} \\sum_{v \\in \\mathcal{V}} \\mathcal{x}^{(L)}_v\n",
    "$$\n",
    "\n",
    "GNN.jl provides this functionality via `GlobalPool(mean)`, which takes in the node embeddings of all nodes in the mini-batch and the assignment vector `graph_indicator` to compute a graph embedding of size `[hidden_channels, batchsize]`.\n",
    "\n",
    "The final architecture for applying GNNs to the task of graph classification then looks as follows and allows for complete end-to-end training:"
   ]
  },
  {
   "cell_type": "code",
   "execution_count": 11,
   "metadata": {},
   "outputs": [
    {
     "data": {
      "text/plain": [
       "create_model (generic function with 1 method)"
      ]
     },
     "metadata": {},
     "output_type": "display_data"
    }
   ],
   "source": [
    "function create_model(nin, nh, nout)\n",
    "\treturn GNNChain( GCNConv(nin => nh, relu),\n",
    "\t\t\t\t\t GCNConv(nh => nh, relu),\n",
    "\t\t\t\t\t GCNConv(nh => nh),\n",
    "\t\t\t\t\t GlobalPool(mean),\n",
    "\t\t\t\t\t Dropout(0.5),\n",
    "\t\t\t\t\t Dense(nh, nout))\n",
    "end\n"
   ]
  },
  {
   "attachments": {},
   "cell_type": "markdown",
   "metadata": {},
   "source": [
    "Here, we again make use of the `GCNConv` with $\\mathrm{ReLU}(x) = \\max(x, 0)$ activation for obtaining localized node embeddings, before we apply our final classifier on top of a graph readout layer.\n",
    "\n",
    "Let's train our network for a few epochs to see how well it performs on the training as well as test set:"
   ]
  },
  {
   "cell_type": "code",
   "execution_count": 12,
   "metadata": {},
   "outputs": [
    {
     "data": {
      "text/plain": [
       "train! (generic function with 1 method)"
      ]
     },
     "metadata": {},
     "output_type": "display_data"
    }
   ],
   "source": [
    "\n",
    "function eval_loss_accuracy(model, data_loader, device)\n",
    "    loss = 0.\n",
    "    acc = 0.\n",
    "    ntot = 0\n",
    "    for (g, y) in data_loader\n",
    "        g, y = g |> device, y |> device\n",
    "        n = length(y)\n",
    "        ŷ = model(g, g.ndata.x)\n",
    "        loss += logitcrossentropy(ŷ, y) * n \n",
    "        acc += mean((ŷ .> 0) .== y) * n\n",
    "        ntot += n\n",
    "    end \n",
    "    return (loss = round(loss/ntot, digits=4), acc = round(acc*100/ntot, digits=2))\n",
    "end\n",
    "\n",
    "function train!(model; epochs=200, η=1e-2, infotime=10)\n",
    "\t# device = Flux.gpu # uncomment this for GPU training\n",
    "\tdevice = Flux.cpu\n",
    "\tmodel = model |> device\n",
    "\topt_state = Flux.setup(Adam(η), model)\n",
    "\t\n",
    "\n",
    "    function report(epoch)\n",
    "        train = eval_loss_accuracy(model, train_loader, device)\n",
    "        test = eval_loss_accuracy(model, test_loader, device)\n",
    "        println(\"# epoch = $epoch\")\n",
    "        println(\"train = $train\")\n",
    "        println(\"test = $test\")\n",
    "    end\n",
    "    \n",
    "    report(0)\n",
    "    for epoch in 1:epochs\n",
    "        for (g, y) in train_loader\n",
    "            g, y = g |> device, y |> device\n",
    "            grads = Flux.gradient(model) do model\n",
    "                ŷ = model(g, g.ndata.x)\n",
    "                logitcrossentropy(ŷ, y)\n",
    "            end\n",
    "            Flux.Optimise.update!(opt_state, model, grads[1])\n",
    "        end\n",
    "\t\tepoch % infotime == 0 && report(epoch)\n",
    "    end\n",
    "end"
   ]
  },
  {
   "cell_type": "code",
   "execution_count": 13,
   "metadata": {},
   "outputs": [
    {
     "name": "stdout",
     "output_type": "stream",
     "text": [
      "# epoch = 0\n",
      "train = (loss = 0.7051, acc = 50.0)\n",
      "test = (loss = 0.6978, acc = 50.0)\n"
     ]
    },
    {
     "name": "stdout",
     "output_type": "stream",
     "text": [
      "# epoch = 10\n",
      "train = (loss = 0.4819, acc = 74.67)\n",
      "test = (loss = 0.7471, acc = 68.42)\n"
     ]
    },
    {
     "name": "stdout",
     "output_type": "stream",
     "text": [
      "# epoch = 20\n",
      "train = (loss = 0.4786, acc = 76.67)\n",
      "test = (loss = 0.6451, acc = 61.84)\n"
     ]
    },
    {
     "name": "stdout",
     "output_type": "stream",
     "text": [
      "# epoch = 30\n",
      "train = (loss = 0.4648, acc = 77.67)\n",
      "test = (loss = 0.6478, acc = 64.47)\n"
     ]
    },
    {
     "name": "stdout",
     "output_type": "stream",
     "text": [
      "# epoch = 40\n",
      "train = (loss = 0.4543, acc = 79.0)\n",
      "test = (loss = 0.7267, acc = 68.42)\n"
     ]
    },
    {
     "name": "stdout",
     "output_type": "stream",
     "text": [
      "# epoch = 50\n",
      "train = (loss = 0.4452, acc = 78.0)\n",
      "test = (loss = 0.688, acc = 68.42)\n"
     ]
    },
    {
     "name": "stdout",
     "output_type": "stream",
     "text": [
      "# epoch = 60\n",
      "train = (loss = 0.4509, acc = 78.33)\n",
      "test = (loss = 0.7459, acc = 67.11)\n"
     ]
    },
    {
     "name": "stdout",
     "output_type": "stream",
     "text": [
      "# epoch = 70\n",
      "train = (loss = 0.4453, acc = 78.0)\n",
      "test = (loss = 0.6655, acc = 69.74)\n"
     ]
    },
    {
     "name": "stdout",
     "output_type": "stream",
     "text": [
      "# epoch = 80\n",
      "train = (loss = 0.4403, acc = 78.33)\n",
      "test = (loss = 0.7645, acc = 68.42)\n"
     ]
    },
    {
     "name": "stdout",
     "output_type": "stream",
     "text": [
      "# epoch = 90\n",
      "train = (loss = 0.4255, acc = 80.0)\n",
      "test = (loss = 0.7259, acc = 68.42)\n"
     ]
    },
    {
     "name": "stdout",
     "output_type": "stream",
     "text": [
      "# epoch = 100\n",
      "train = (loss = 0.4224, acc = 80.33)\n",
      "test = (loss = 0.6988, acc = 69.74)\n"
     ]
    },
    {
     "name": "stdout",
     "output_type": "stream",
     "text": [
      "# epoch = 110\n",
      "train = (loss = 0.4233, acc = 81.0)\n",
      "test = (loss = 0.7432, acc = 67.11)\n"
     ]
    },
    {
     "name": "stdout",
     "output_type": "stream",
     "text": [
      "# epoch = 120\n",
      "train = (loss = 0.4218, acc = 78.67)\n",
      "test = (loss = 0.7177, acc = 68.42)\n"
     ]
    },
    {
     "name": "stdout",
     "output_type": "stream",
     "text": [
      "# epoch = 130\n",
      "train = (loss = 0.4255, acc = 79.67)\n",
      "test = (loss = 0.7101, acc = 71.05)\n"
     ]
    },
    {
     "name": "stdout",
     "output_type": "stream",
     "text": [
      "# epoch = 140\n",
      "train = (loss = 0.418, acc = 81.0)\n",
      "test = (loss = 0.7522, acc = 71.05)\n"
     ]
    },
    {
     "name": "stdout",
     "output_type": "stream",
     "text": [
      "# epoch = 150\n",
      "train = (loss = 0.4137, acc = 81.0)\n",
      "test = (loss = 0.7165, acc = 69.74)\n"
     ]
    },
    {
     "name": "stdout",
     "output_type": "stream",
     "text": [
      "# epoch = 160\n",
      "train = (loss = 0.4259, acc = 81.0)\n",
      "test = (loss = 0.6943, acc = 69.74)\n"
     ]
    },
    {
     "name": "stdout",
     "output_type": "stream",
     "text": [
      "# epoch = 170\n",
      "train = (loss = 0.4156, acc = 80.0)\n",
      "test = (loss = 0.7532, acc = 65.79)\n"
     ]
    },
    {
     "name": "stdout",
     "output_type": "stream",
     "text": [
      "# epoch = 180\n",
      "train = (loss = 0.4074, acc = 81.33)\n",
      "test = (loss = 0.7493, acc = 72.37)\n"
     ]
    },
    {
     "name": "stdout",
     "output_type": "stream",
     "text": [
      "# epoch = 190\n",
      "train = (loss = 0.413, acc = 80.0)\n",
      "test = (loss = 0.7774, acc = 65.79)\n"
     ]
    },
    {
     "name": "stdout",
     "output_type": "stream",
     "text": [
      "# epoch = 200\n",
      "train = (loss = 0.4268, acc = 79.67)\n",
      "test = (loss = 0.7375, acc = 73.68)\n"
     ]
    }
   ],
   "source": [
    "nin = 7  \n",
    "nh = 64\n",
    "nout = 2\n",
    "model = create_model(nin, nh, nout)\n",
    "train!(model)\n"
   ]
  },
  {
   "attachments": {},
   "cell_type": "markdown",
   "metadata": {},
   "source": [
    "As one can see, our model reaches around **70% test accuracy**.\n",
    "Reasons for the fluctations in accuracy can be explained by the rather small dataset (only 38 test graphs), and usually disappear once one applies GNNs to larger datasets.\n"
   ]
  },
  {
   "attachments": {},
   "cell_type": "markdown",
   "metadata": {},
   "source": [
    "\n",
    "## Exercise 1\n",
    "\n",
    "Can we do better than this?\n",
    "As multiple papers pointed out ([Xu et al. (2018)](https://arxiv.org/abs/1810.00826), [Morris et al. (2018)](https://arxiv.org/abs/1810.02244)), applying **neighborhood normalization decreases the expressivity of GNNs in distinguishing certain graph structures**.\n",
    "An alternative formulation ([Morris et al. (2018)](https://arxiv.org/abs/1810.02244)) omits neighborhood normalization completely and adds a simple skip-connection to the GNN layer in order to preserve central node information:\n",
    "\n",
    "$$\n",
    "\\mathbf{x}_i^{(\\ell+1)} = \\mathbf{W}^{(\\ell + 1)}_1 \\mathbf{x}_i^{(\\ell)} + \\mathbf{W}^{(\\ell + 1)}_2 \\sum_{j \\in \\mathcal{N}(i)} \\mathbf{x}_j^{(\\ell)}\n",
    "$$\n",
    "\n",
    "This layer is implemented under the name `GraphConv` in GNN.jl.\n",
    "\n",
    "As an exercise, you are invited to complete the following code to the extent that it makes use of `GraphConv` rather than `GCNConv`.\n",
    "This should bring you close to **80% test accuracy**."
   ]
  },
  {
   "attachments": {},
   "cell_type": "markdown",
   "metadata": {},
   "source": [
    "# Exercise 2 \n",
    "\n",
    "Define your own convolutional layer drawing inspiration from any of the already existing ones:\n",
    "https://github.com/CarloLucibello/GraphNeuralNetworks.jl/blob/master/src/layers/conv.jl\n",
    "\n",
    "You can try to:\n",
    "- use MLPs instead of linear operators\n",
    "- add skip connections"
   ]
  },
  {
   "cell_type": "code",
   "execution_count": 14,
   "metadata": {},
   "outputs": [
    {
     "name": "stdout",
     "output_type": "stream",
     "text": [
      "# epoch = 0\n",
      "train = (loss = 0.9458, acc = 68.67)\n",
      "test = (loss = 1.376, acc = 57.89)\n"
     ]
    },
    {
     "name": "stdout",
     "output_type": "stream",
     "text": [
      "# epoch = 10\n",
      "train = (loss = 0.5885, acc = 68.67)\n",
      "test = (loss = 0.6668, acc = 57.89)\n"
     ]
    },
    {
     "name": "stdout",
     "output_type": "stream",
     "text": [
      "# epoch = 20\n",
      "train = (loss = 0.4211, acc = 77.0)\n",
      "test = (loss = 0.669, acc = 68.42)\n"
     ]
    },
    {
     "name": "stdout",
     "output_type": "stream",
     "text": [
      "# epoch = 30\n",
      "train = (loss = 0.3692, acc = 82.33)\n",
      "test = (loss = 0.6699, acc = 71.05)\n"
     ]
    },
    {
     "name": "stdout",
     "output_type": "stream",
     "text": [
      "# epoch = 40\n",
      "train = (loss = 0.3507, acc = 87.0)\n",
      "test = (loss = 0.5215, acc = 82.89)\n"
     ]
    },
    {
     "name": "stdout",
     "output_type": "stream",
     "text": [
      "# epoch = 50\n",
      "train = (loss = 0.2771, acc = 89.33)\n",
      "test = (loss = 0.7162, acc = 73.68)\n"
     ]
    },
    {
     "name": "stdout",
     "output_type": "stream",
     "text": [
      "# epoch = 60\n",
      "train = (loss = 0.2824, acc = 89.0)\n",
      "test = (loss = 0.6479, acc = 73.68)\n"
     ]
    },
    {
     "name": "stdout",
     "output_type": "stream",
     "text": [
      "# epoch = 70\n",
      "train = (loss = 0.2077, acc = 90.67)\n",
      "test = (loss = 0.3981, acc = 81.58)\n"
     ]
    },
    {
     "name": "stdout",
     "output_type": "stream",
     "text": [
      "# epoch = 80\n",
      "train = (loss = 0.1737, acc = 92.33)\n",
      "test = (loss = 0.3441, acc = 89.47)\n"
     ]
    },
    {
     "name": "stdout",
     "output_type": "stream",
     "text": [
      "# epoch = 90\n",
      "train = (loss = 0.1725, acc = 91.33)\n",
      "test = (loss = 0.3688, acc = 89.47)\n"
     ]
    },
    {
     "name": "stdout",
     "output_type": "stream",
     "text": [
      "# epoch = 100\n",
      "train = (loss = 0.1553, acc = 92.33)\n",
      "test = (loss = 0.3282, acc = 89.47)\n"
     ]
    },
    {
     "name": "stdout",
     "output_type": "stream",
     "text": [
      "# epoch = 110\n",
      "train = (loss = 0.1556, acc = 93.33)\n",
      "test = (loss = 0.3838, acc = 84.21)\n"
     ]
    },
    {
     "name": "stdout",
     "output_type": "stream",
     "text": [
      "# epoch = 120\n",
      "train = (loss = 0.1578, acc = 93.33)\n",
      "test = (loss = 0.4114, acc = 86.84)\n"
     ]
    },
    {
     "name": "stdout",
     "output_type": "stream",
     "text": [
      "# epoch = 130\n",
      "train = (loss = 0.1888, acc = 90.0)\n",
      "test = (loss = 0.5136, acc = 77.63)\n"
     ]
    },
    {
     "name": "stdout",
     "output_type": "stream",
     "text": [
      "# epoch = 140\n",
      "train = (loss = 0.1543, acc = 91.67)\n",
      "test = (loss = 0.4281, acc = 80.26)\n"
     ]
    },
    {
     "name": "stdout",
     "output_type": "stream",
     "text": [
      "# epoch = 150\n",
      "train = (loss = 0.1736, acc = 90.67)\n",
      "test = (loss = 0.5026, acc = 84.21)\n"
     ]
    },
    {
     "name": "stdout",
     "output_type": "stream",
     "text": [
      "# epoch = 160\n",
      "train = (loss = 0.1427, acc = 93.0)\n",
      "test = (loss = 0.4291, acc = 88.16)\n"
     ]
    },
    {
     "name": "stdout",
     "output_type": "stream",
     "text": [
      "# epoch = 170\n",
      "train = (loss = 0.136, acc = 93.0)\n",
      "test = (loss = 0.4256, acc = 85.53)\n"
     ]
    },
    {
     "name": "stdout",
     "output_type": "stream",
     "text": [
      "# epoch = 180\n",
      "train = (loss = 0.134, acc = 93.0)\n",
      "test = (loss = 0.4152, acc = 82.89)\n"
     ]
    },
    {
     "name": "stdout",
     "output_type": "stream",
     "text": [
      "# epoch = 190\n",
      "train = (loss = 0.1386, acc = 93.0)\n",
      "test = (loss = 0.2195, acc = 86.84)\n"
     ]
    },
    {
     "name": "stdout",
     "output_type": "stream",
     "text": [
      "# epoch = 200\n",
      "train = (loss = 0.1283, acc = 92.67)\n",
      "test = (loss = 0.3883, acc = 88.16)\n"
     ]
    }
   ],
   "source": [
    "struct MyConv{A<:AbstractMatrix, B<:AbstractVector, F} <: GNNLayer\n",
    "\tW1::A\n",
    "\tW2::A\n",
    "\tb::B\n",
    "\tact::F\n",
    "end\n",
    "\n",
    "Flux.@functor MyConv\n",
    "\n",
    "function MyConv((nin, nout)::Pair, act=identity)\n",
    "\tW1 = Flux.glorot_uniform(nout, nin)\n",
    "\tW2 = Flux.glorot_uniform(nout, nin)\n",
    "\tb = fill!(similar(W1, nout), 0)\n",
    "\treturn MyConv(W1, W2, b, act)\n",
    "end\n",
    "\n",
    "function (l::MyConv)(g::GNNGraph, x::AbstractMatrix)\n",
    "\tmessage(xi, xj, e) = l.W2 * xj\n",
    "\tm = apply_edges(message, g, xj=x) # size [nout, num_edges]\n",
    "\txnew = aggregate_neighbors(g, +, m) # size [nout, num_nodes]\n",
    "\t# m = propagate(message, g, +, xj=x) # equivalent to the 2 lines above\n",
    "\treturn l.act.(l.W1*x .+ xnew .+ l.b)\n",
    "end\n",
    "\n",
    "model = GNNChain(MyConv(nin => nh, relu),\n",
    "\t\t\t\tMyConv(nh => nh, relu),\n",
    "\t\t\t\tMyConv(nh => nh),\n",
    "\t\t\t\tGlobalPool(mean),\n",
    "\t\t\t\tDropout(0.5),\n",
    "\t\t\t\tDense(nh, nout))\n",
    "\n",
    "train!(model)\n"
   ]
  },
  {
   "cell_type": "code",
   "execution_count": null,
   "metadata": {},
   "outputs": [],
   "source": []
  }
 ],
 "metadata": {
  "kernelspec": {
   "display_name": "Julia 1.9.0",
   "language": "julia",
   "name": "julia-1.9"
  },
  "language_info": {
   "file_extension": ".jl",
   "mimetype": "application/julia",
   "name": "julia",
   "version": "1.9.0"
  },
  "orig_nbformat": 4
 },
 "nbformat": 4,
 "nbformat_minor": 2
}
