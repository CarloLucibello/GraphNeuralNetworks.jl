{
 "cells": [
  {
   "attachments": {},
   "cell_type": "markdown",
   "metadata": {},
   "source": [
    "# Intro to GraphNeuralNetworks.jl\n",
    "\n",
    "*This notebook is a julia adaptation of the Pytorch Geometric tutorials that can be found [here](https://pytorch-geometric.readthedocs.io/en/latest/notes/colabs.html).*\n",
    "\n",
    "Recently, deep learning on graphs has emerged to one of the hottest research fields in the deep learning community.\n",
    "Here, **Graph Neural Networks (GNNs)** aim to generalize classical deep learning concepts to irregular structured data (in contrast to images or texts) and to enable neural networks to reason about objects and their relations.\n",
    "\n",
    "This is done by following a simple **neural message passing scheme**, where node features $\\mathbf{x}_i^{(\\ell)}$ of all nodes $i \\in \\mathcal{V}$ in a graph $\\mathcal{G} = (\\mathcal{V}, \\mathcal{E})$ are iteratively updated by aggregating localized information from their neighbors $\\mathcal{N}(i)$:\n",
    "\n",
    "$$\n",
    "\\mathbf{x}_i^{(\\ell + 1)} = f^{(\\ell + 1)}_{\\theta} \\left( \\mathbf{x}_i^{(\\ell)}, \\left\\{ \\mathbf{x}_j^{(\\ell)} : j \\in \\mathcal{N}(i) \\right\\} \\right)\n",
    "$$\n",
    "\n",
    "This tutorial will introduce you to some fundamental concepts regarding deep learning on graphs via Graph Neural Networks based on the **[GraphNeuralNetworks.jl library](https://github.com/JuliaGraphs/GraphNeuralNetworks.jl)**.\n",
    "GraphNeuralNetworks.jl is an extension library to the popular deep learning framework [Flux.jl](https://fluxml.ai/Flux.jl/stable/), and consists of various methods and utilities to ease the implementation of Graph Neural Networks.\n",
    "\n",
    "Let's first import the packages we need:"
   ]
  },
  {
   "cell_type": "code",
   "execution_count": 1,
   "metadata": {},
   "outputs": [],
   "source": [
    "using Flux\n",
    "using Flux: onecold, onehotbatch, logitcrossentropy\n",
    "using MLDatasets\n",
    "using LinearAlgebra, Random, Statistics\n",
    "import GraphMakie\n",
    "import CairoMakie as Makie\n",
    "using Graphs\n",
    "using GraphNeuralNetworks\n",
    "ENV[\"DATADEPS_ALWAYS_ACCEPT\"] = \"true\"  # don't ask for dataset download confirmation\n",
    "Random.seed!(17); # for reproducibility"
   ]
  },
  {
   "attachments": {},
   "cell_type": "markdown",
   "metadata": {},
   "source": [
    "Following [Kipf et al. (2017)](https://arxiv.org/abs/1609.02907), let's dive into the world of GNNs by looking at a simple graph-structured example, the well-known [**Zachary's karate club network**](https://en.wikipedia.org/wiki/Zachary%27s_karate_club). This graph describes a social network of 34 members of a karate club and documents links between members who interacted outside the club. Here, we are interested in detecting communities that arise from the member's interaction.\n",
    "\n",
    "GraphNeuralNetworks.jl provides utilities to convert [MLDatasets.jl](https://github.com/JuliaML/MLDatasets.jl)'s datasets to its own type:"
   ]
  },
  {
   "cell_type": "code",
   "execution_count": 2,
   "metadata": {},
   "outputs": [
    {
     "data": {
      "text/plain": [
       "dataset KarateClub:\n",
       "  metadata  =>    Dict{String, Any} with 0 entries\n",
       "  graphs    =>    1-element Vector{MLDatasets.Graph}"
      ]
     },
     "metadata": {},
     "output_type": "display_data"
    }
   ],
   "source": [
    "dataset = MLDatasets.KarateClub()"
   ]
  },
  {
   "attachments": {},
   "cell_type": "markdown",
   "metadata": {},
   "source": [
    "After initializing the `KarateClub` dataset, we first can inspect some of its properties.\n",
    "For example, we can see that this dataset holds exactly **one graph**.\n",
    "Furthermore, the graph holds exactly **4 classes**, which represent the community each node belongs to.\n"
   ]
  },
  {
   "cell_type": "code",
   "execution_count": 3,
   "metadata": {},
   "outputs": [
    {
     "data": {
      "text/plain": [
       "Graph:\n",
       "  num_nodes   =>    34\n",
       "  num_edges   =>    156\n",
       "  edge_index  =>    (\"156-element Vector{Int64}\", \"156-element Vector{Int64}\")\n",
       "  node_data   =>    (labels_clubs = \"34-element Vector{Int64}\", labels_comm = \"34-element Vector{Int64}\")\n",
       "  edge_data   =>    nothing"
      ]
     },
     "metadata": {},
     "output_type": "display_data"
    }
   ],
   "source": [
    "karate = dataset[1]"
   ]
  },
  {
   "cell_type": "code",
   "execution_count": 4,
   "metadata": {},
   "outputs": [
    {
     "data": {
      "text/plain": [
       "34-element Vector{Int64}:\n",
       " 1\n",
       " 1\n",
       " 1\n",
       " 1\n",
       " 3\n",
       " 3\n",
       " 3\n",
       " 1\n",
       " 0\n",
       " 1\n",
       " ⋮\n",
       " 2\n",
       " 0\n",
       " 0\n",
       " 2\n",
       " 0\n",
       " 0\n",
       " 2\n",
       " 0\n",
       " 0"
      ]
     },
     "metadata": {},
     "output_type": "display_data"
    }
   ],
   "source": [
    "karate.node_data.labels_comm\n"
   ]
  },
  {
   "attachments": {},
   "cell_type": "markdown",
   "metadata": {},
   "source": [
    "Now we convert the single-graph dataset to a `GNNGraph`. Moreover, we add a an array of node features, a **34-dimensional feature vector**  for each node which uniquely describes the members of the karate club. We also add a training mask selecting the nodes to be used for training in our semi-supervised node classification task.\n"
   ]
  },
  {
   "cell_type": "code",
   "execution_count": 5,
   "metadata": {},
   "outputs": [
    {
     "data": {
      "text/plain": [
       "GNNGraph:\n",
       "  num_nodes: 34\n",
       "  num_edges: 156\n",
       "  ndata:\n",
       "\ty = 4×34 OneHotMatrix(::Vector{UInt32}) with eltype Bool\n",
       "\ttrain_mask = 34-element Vector{Bool}\n",
       "\tx = 34×34 Matrix{Float32}"
      ]
     },
     "metadata": {},
     "output_type": "display_data"
    }
   ],
   "source": [
    "# convert a MLDataset.jl's dataset to a GNNGraphs (or a collection of graphs)\n",
    "g = mldataset2gnngraph(dataset)\n",
    "\n",
    "x = zeros(Float32, g.num_nodes, g.num_nodes)\n",
    "x[diagind(x)] .= 1\n",
    "\n",
    "train_mask = [true, false, false, false, true, false, false, false, true,\n",
    "    false, false, false, false, false, false, false, false, false, false, false,\n",
    "    false, false, false, false, true, false, false, false, false, false,\n",
    "    false, false, false, false]\n",
    "\n",
    "labels = g.ndata.labels_comm\n",
    "y = onehotbatch(labels, 0:3)\n",
    "\n",
    "g = GNNGraph(g, ndata = (; x, y, train_mask))"
   ]
  },
  {
   "attachments": {},
   "cell_type": "markdown",
   "metadata": {},
   "source": [
    "Let's now look at the underlying graph in more detail:\n"
   ]
  },
  {
   "cell_type": "code",
   "execution_count": 6,
   "metadata": {},
   "outputs": [
    {
     "name": "stdout",
     "output_type": "stream",
     "text": [
      "Number of nodes: 34\n",
      "Number of edges: 156\n",
      "Average node degree: 4.588235294117647\n",
      "Number of training nodes: 4\n",
      "Training node label rate: 0.11764705882352941\n"
     ]
    },
    {
     "name": "stdout",
     "output_type": "stream",
     "text": [
      "Has self-loops: false\n"
     ]
    },
    {
     "name": "stdout",
     "output_type": "stream",
     "text": [
      "Is undirected: true\n"
     ]
    }
   ],
   "source": [
    "# Gather some statistics about the graph.\n",
    "println(\"Number of nodes: $(g.num_nodes)\")\n",
    "println(\"Number of edges: $(g.num_edges)\")\n",
    "println(\"Average node degree: $(g.num_edges / g.num_nodes)\")\n",
    "println(\"Number of training nodes: $(sum(g.ndata.train_mask))\")\n",
    "println(\"Training node label rate: $(mean(g.ndata.train_mask))\")\n",
    "# println(\"Has isolated nodes: $(has_isolated_nodes(g))\")\n",
    "println(\"Has self-loops: $(has_self_loops(g))\")\n",
    "println(\"Is undirected: $(is_bidirected(g))\")"
   ]
  },
  {
   "attachments": {},
   "cell_type": "markdown",
   "metadata": {},
   "source": [
    "Each graph in GraphNeuralNetworks.jl is represented by a  `GNNGraph` object, which holds all the information to describe its graph representation.\n",
    "We can print the data object anytime via `print(g)` to receive a short summary about its attributes and their shapes.\n",
    "\n",
    "The  `g` object holds 3 attributes:\n",
    "- `g.ndata` contains node related information;\n",
    "- `g.edata` holds edge-related information;\n",
    "- `g.gdata`: this stores the global data, therefore neither node nor edge specific features.\n",
    "\n",
    "These attributes are `NamedTuples` that can store multiple feature arrays: we can access a specific set of features e.g. `x`, with `g.ndata.x`.\n",
    "\n",
    "\n",
    "In our task, `g.ndata.train_mask` describes for which nodes we already know their community assignments. In total, we are only aware of the ground-truth labels of 4 nodes (one for each community), and the task is to infer the community assignment for the remaining nodes.\n",
    "\n",
    "The `g` object also provides some **utility functions** to infer some basic properties of the underlying graph.\n",
    "For example, we can easily infer whether there exists isolated nodes in the graph (*i.e.* there exists no edge to any node), whether the graph contains self-loops (*i.e.*, $(v, v) \\in \\mathcal{E}$), or whether the graph is bidirected (*i.e.*, for each edge $(v, w) \\in \\mathcal{E}$ there also exists the edge $(w, v) \\in \\mathcal{E}$).\n",
    "\n",
    "Let us now inspect the `edge_index` method:\n"
   ]
  },
  {
   "cell_type": "code",
   "execution_count": 7,
   "metadata": {},
   "outputs": [
    {
     "data": {
      "text/plain": [
       "([1, 1, 1, 1, 1, 1, 1, 1, 1, 1  …  34, 34, 34, 34, 34, 34, 34, 34, 34, 34], [2, 3, 4, 5, 6, 7, 8, 9, 11, 12  …  21, 23, 24, 27, 28, 29, 30, 31, 32, 33])"
      ]
     },
     "metadata": {},
     "output_type": "display_data"
    }
   ],
   "source": [
    "edge_index(g)"
   ]
  },
  {
   "attachments": {},
   "cell_type": "markdown",
   "metadata": {},
   "source": [
    "By printing `edge_index(g)`, we can understand how GraphNeuralNetworks.jl represents graph connectivity internally.\n",
    "We can see that for each edge, `edge_index` holds a tuple of two node indices, where the first value describes the node index of the source node and the second value describes the node index of the destination node of an edge.\n",
    "\n",
    "This representation is known as the **COO format (coordinate format)** commonly used for representing sparse matrices.\n",
    "Instead of holding the adjacency information in a dense representation $\\mathbf{A} \\in \\{ 0, 1 \\}^{|\\mathcal{V}| \\times |\\mathcal{V}|}$, GraphNeuralNetworks.jl represents graphs sparsely, which refers to only holding the coordinates/values for which entries in $\\mathbf{A}$ are non-zero.\n",
    "\n",
    "Importantly, GraphNeuralNetworks.jl does not distinguish between directed and undirected graphs, and treats undirected graphs as a special case of directed graphs in which reverse edges exist for every entry in the edge_index.\n",
    "\n",
    "Since a `GNNGraph` is an `AbstractGraph` from the `Graphs.jl` library, it supports graph algorithms and visualization tools from the wider julia graph ecosystem:\n"
   ]
  },
  {
   "attachments": {},
   "cell_type": "markdown",
   "metadata": {},
   "source": [
    "\n",
    "## Implementing Graph Neural Networks\n",
    "\n",
    "After learning about GraphNeuralNetworks.jl's data handling, it's time to implement our first Graph Neural Network!\n",
    "\n",
    "For this, we will use on of the most simple GNN operators, the **GCN layer** ([Kipf et al. (2017)](https://arxiv.org/abs/1609.02907)), which is defined as\n",
    "\n",
    "$$\n",
    "\\mathbf{x}_v^{(\\ell + 1)} = \\mathbf{W}^{(\\ell + 1)} \\sum_{w \\in \\mathcal{N}(v) \\, \\cup \\, \\{ v \\}} \\frac{1}{c_{w,v}} \\cdot \\mathbf{x}_w^{(\\ell)}\n",
    "$$\n",
    "\n",
    "where $\\mathbf{W}^{(\\ell + 1)}$ denotes a trainable weight matrix of shape `[num_output_features, num_input_features]` and $c_{w,v}$ refers to a fixed normalization coefficient for each edge.\n",
    "\n",
    "GraphNeuralNetworks.jl implements this layer via `GCNConv`, which can be executed by passing in the node feature representation `x` and the COO graph connectivity representation `edge_index`.\n",
    "\n",
    "With this, we are ready to create our first Graph Neural Network by defining our network architecture:\n"
   ]
  },
  {
   "cell_type": "code",
   "execution_count": 8,
   "metadata": {},
   "outputs": [
    {
     "data": {
      "image/png": "[encoded data removed]"
     },
     "metadata": {},
     "output_type": "display_data"
    }
   ],
   "source": [
    "GraphMakie.graphplot(g |> to_unidirected, node_size = 20, node_color = labels,\n",
    "                     arrow_show = false)"
   ]
  },
  {
   "cell_type": "code",
   "execution_count": 9,
   "metadata": {},
   "outputs": [],
   "source": [
    "struct GCN\n",
    "    layers::NamedTuple\n",
    "end\n",
    "\n",
    "Flux.@layer :expand GCN # provides parameter collection, gpu movement and more\n",
    "\n",
    "function GCN(num_features, num_classes)\n",
    "    layers = (conv1 = GCNConv(num_features => 4),\n",
    "              conv2 = GCNConv(4 => 4),\n",
    "              conv3 = GCNConv(4 => 2),\n",
    "              classifier = Dense(2, num_classes))\n",
    "    return GCN(layers)\n",
    "end\n",
    "\n",
    "function (gcn::GCN)(g::GNNGraph, x::AbstractMatrix)\n",
    "    l = gcn.layers\n",
    "    x = l.conv1(g, x)\n",
    "    x = tanh.(x)\n",
    "    x = l.conv2(g, x)\n",
    "    x = tanh.(x)\n",
    "    x = l.conv3(g, x)\n",
    "    x = tanh.(x)  # Final GNN embedding space.\n",
    "    out = l.classifier(x)\n",
    "    # Apply a final (linear) classifier.\n",
    "    return out, x\n",
    "end"
   ]
  },
  {
   "attachments": {},
   "cell_type": "markdown",
   "metadata": {},
   "source": [
    "\n",
    "Here, we first initialize all of our building blocks in the constructor and define the computation flow of our network in the call method.\n",
    "We first define and stack **three graph convolution layers**, which corresponds to aggregating 3-hop neighborhood information around each node (all nodes up to 3 \"hops\" away).\n",
    "In addition, the `GCNConv` layers reduce the node feature dimensionality to $2$, *i.e.*, $34 \\rightarrow 4 \\rightarrow 4 \\rightarrow 2$. Each `GCNConv` layer is enhanced by a `tanh` non-linearity.\n",
    "\n",
    "After that, we apply a single linear transformation (`Flux.Dense` that acts as a classifier to map our nodes to 1 out of the 4 classes/communities.\n",
    "\n",
    "We return both the output of the final classifier as well as the final node embeddings produced by our GNN.\n",
    "We proceed to initialize our final model via `GCN()`, and printing our model produces a summary of all its used sub-modules.\n",
    "\n",
    "### Embedding the Karate Club Network\n",
    "\n",
    "Let's take a look at the node embeddings produced by our GNN.\n",
    "Here, we pass in the initial node features `x` and the graph  information `g` to the model, and visualize its 2-dimensional embedding.\n"
   ]
  },
  {
   "cell_type": "code",
   "execution_count": 10,
   "metadata": {},
   "outputs": [
    {
     "data": {
      "text/plain": [
       "GCN((conv1 = GCNConv(34 => 4), conv2 = GCNConv(4 => 4), conv3 = GCNConv(4 => 2), classifier = Dense(2 => 4)))"
      ]
     },
     "metadata": {},
     "output_type": "display_data"
    }
   ],
   "source": [
    "num_features = 34\n",
    "num_classes = 4\n",
    "gcn = GCN(num_features, num_classes)"
   ]
  },
  {
   "cell_type": "code",
   "execution_count": 11,
   "metadata": {},
   "outputs": [
    {
     "data": {
      "text/plain": [
       "visualize_embeddings (generic function with 1 method)"
      ]
     },
     "metadata": {},
     "output_type": "display_data"
    }
   ],
   "source": [
    "function visualize_embeddings(h; colors = nothing)\n",
    "    xs = h[1, :] |> vec\n",
    "    ys = h[2, :] |> vec\n",
    "    Makie.scatter(xs, ys, color = labels, markersize = 20)\n",
    "end"
   ]
  },
  {
   "cell_type": "code",
   "execution_count": 12,
   "metadata": {},
   "outputs": [
    {
     "data": {
      "text/plain": [
       "(Float32[0.02146625 0.025838671 … -0.0042725513 0.0056721903; 0.16082448 0.14679235 … -0.003681789 0.040167753; -0.09757348 -0.0888333 … 0.0020964658 -0.02435881; 0.114049815 0.106652185 … -0.004156831 0.028612293], Float32[-0.23871674 -0.21151944 … 0.0016090268 -0.05930534; -0.050135512 -0.05729834 … 0.008132701 -0.01309597])"
      ]
     },
     "metadata": {},
     "output_type": "display_data"
    }
   ],
   "source": [
    "_, h = gcn(g, g.ndata.x)"
   ]
  },
  {
   "cell_type": "code",
   "execution_count": 13,
   "metadata": {},
   "outputs": [
    {
     "data": {
      "image/png": "[encoded data removed]"
     },
     "metadata": {},
     "output_type": "display_data"
    }
   ],
   "source": [
    "visualize_embeddings(h, colors = labels)"
   ]
  },
  {
   "attachments": {},
   "cell_type": "markdown",
   "metadata": {},
   "source": [
    "Remarkably, even before training the weights of our model, the model produces an embedding of nodes that closely resembles the community-structure of the graph.\n",
    "Nodes of the same color (community) are already closely clustered together in the embedding space, although the weights of our model are initialized **completely at random** and we have not yet performed any training so far!\n",
    "This leads to the conclusion that GNNs introduce a strong inductive bias, leading to similar embeddings for nodes that are close to each other in the input graph.\n",
    "\n",
    "### Training on the Karate Club Network\n",
    "\n",
    "But can we do better? Let's look at an example on how to train our network parameters based on the knowledge of the community assignments of 4 nodes in the graph (one for each community):\n",
    "\n",
    "Since everything in our model is differentiable and parameterized, we can add some labels, train the model and observe how the embeddings react.\n",
    "Here, we make use of a semi-supervised or transductive learning procedure: We simply train against one node per class, but are allowed to make use of the complete input graph data.\n",
    "\n",
    "Training our model is very similar to any other Flux model.\n",
    "In addition to defining our network architecture, we define a loss criterion (here, `logitcrossentropy`), and initialize a stochastic gradient optimizer (here, `Adam`).\n",
    "After that, we perform multiple rounds of optimization, where each round consists of a forward and backward pass to compute the gradients of our model parameters w.r.t. to the loss derived from the forward pass.\n",
    "If you are not new to Flux, this scheme should appear familiar to you.\n",
    "\n",
    "Note that our semi-supervised learning scenario is achieved by the following line:\n",
    "```\n",
    "loss = logitcrossentropy(ŷ[:,train_mask], y[:,train_mask])\n",
    "```\n",
    "While we compute node embeddings for all of our nodes, we **only make use of the training nodes for computing the loss**.\n",
    "Here, this is implemented by filtering the output of the classifier `out` and ground-truth labels `data.y` to only contain the nodes in the `train_mask`.\n",
    "\n",
    "Let us now start training and see how our node embeddings evolve over time (best experienced by explicitly running the code):\n"
   ]
  },
  {
   "cell_type": "code",
   "execution_count": 14,
   "metadata": {},
   "outputs": [
    {
     "name": "stdout",
     "output_type": "stream",
     "text": [
      "(epoch = 0, loss = Inf)\n"
     ]
    },
    {
     "name": "stdout",
     "output_type": "stream",
     "text": [
      "(epoch = 200, loss = 0.23355743f0)\n"
     ]
    },
    {
     "name": "stdout",
     "output_type": "stream",
     "text": [
      "(epoch = 400, loss = 0.121180125f0)\n"
     ]
    },
    {
     "name": "stdout",
     "output_type": "stream",
     "text": [
      "(epoch = 600, loss = 0.015979901f0)\n"
     ]
    },
    {
     "name": "stdout",
     "output_type": "stream",
     "text": [
      "(epoch = 800, loss = 0.006574087f0)\n"
     ]
    },
    {
     "name": "stdout",
     "output_type": "stream",
     "text": [
      "(epoch = 1000, loss = 0.0036216264f0)\n"
     ]
    },
    {
     "name": "stdout",
     "output_type": "stream",
     "text": [
      "(epoch = 1200, loss = 0.002299502f0)\n"
     ]
    },
    {
     "name": "stdout",
     "output_type": "stream",
     "text": [
      "(epoch = 1400, loss = 0.0015925727f0)\n"
     ]
    },
    {
     "name": "stdout",
     "output_type": "stream",
     "text": [
      "(epoch = 1600, loss = 0.001172607f0)\n"
     ]
    },
    {
     "name": "stdout",
     "output_type": "stream",
     "text": [
      "(epoch = 1800, loss = 0.0009049423f0)\n"
     ]
    },
    {
     "name": "stdout",
     "output_type": "stream",
     "text": [
      "(epoch = 2000, loss = 0.0007246111f0)\n"
     ]
    },
    {
     "name": "stdout",
     "output_type": "stream",
     "text": [
      "(epoch = 2200, loss = 0.000597144f0)\n"
     ]
    },
    {
     "name": "stdout",
     "output_type": "stream",
     "text": [
      "(epoch = 2400, loss = 0.0005032007f0)\n"
     ]
    },
    {
     "name": "stdout",
     "output_type": "stream",
     "text": [
      "(epoch = 2600, loss = 0.00043123285f0)\n"
     ]
    },
    {
     "name": "stdout",
     "output_type": "stream",
     "text": [
      "(epoch = 2800, loss = 0.0003746021f0)\n"
     ]
    },
    {
     "name": "stdout",
     "output_type": "stream",
     "text": [
      "(epoch = 3000, loss = 0.00032866356f0)\n"
     ]
    },
    {
     "name": "stdout",
     "output_type": "stream",
     "text": [
      "(epoch = 3200, loss = 0.00029070757f0)\n"
     ]
    },
    {
     "name": "stdout",
     "output_type": "stream",
     "text": [
      "(epoch = 3400, loss = 0.00025867915f0)\n"
     ]
    },
    {
     "name": "stdout",
     "output_type": "stream",
     "text": [
      "(epoch = 3600, loss = 0.00023138715f0)\n"
     ]
    },
    {
     "name": "stdout",
     "output_type": "stream",
     "text": [
      "(epoch = 3800, loss = 0.0002077891f0)\n"
     ]
    },
    {
     "name": "stdout",
     "output_type": "stream",
     "text": [
      "(epoch = 4000, loss = 0.00018708072f0)\n"
     ]
    },
    {
     "name": "stdout",
     "output_type": "stream",
     "text": [
      "(epoch = 4200, loss = 0.00016890466f0)\n"
     ]
    },
    {
     "name": "stdout",
     "output_type": "stream",
     "text": [
      "(epoch = 4400, loss = 0.00015278431f0)\n"
     ]
    },
    {
     "name": "stdout",
     "output_type": "stream",
     "text": [
      "(epoch = 4600, loss = 0.00013848138f0)\n"
     ]
    },
    {
     "name": "stdout",
     "output_type": "stream",
     "text": [
      "(epoch = 4800, loss = 0.00012560855f0)\n"
     ]
    },
    {
     "name": "stdout",
     "output_type": "stream",
     "text": [
      "(epoch = 5000, loss = 0.0001140765f0)\n"
     ]
    },
    {
     "name": "stdout",
     "output_type": "stream",
     "text": [
      "(epoch = 5200, loss = 0.00010373627f0)\n"
     ]
    },
    {
     "name": "stdout",
     "output_type": "stream",
     "text": [
      "(epoch = 5400, loss = 9.43495f-5)\n"
     ]
    },
    {
     "name": "stdout",
     "output_type": "stream",
     "text": [
      "(epoch = 5600, loss = 8.585665f-5)\n"
     ]
    },
    {
     "name": "stdout",
     "output_type": "stream",
     "text": [
      "(epoch = 5800, loss = 7.8168305f-5)\n"
     ]
    },
    {
     "name": "stdout",
     "output_type": "stream",
     "text": [
      "(epoch = 6000, loss = 7.1165305f-5)\n"
     ]
    },
    {
     "name": "stdout",
     "output_type": "stream",
     "text": [
      "(epoch = 6200, loss = 6.481786f-5)\n"
     ]
    },
    {
     "name": "stdout",
     "output_type": "stream",
     "text": [
      "(epoch = 6400, loss = 5.906639f-5)\n"
     ]
    },
    {
     "name": "stdout",
     "output_type": "stream",
     "text": [
      "(epoch = 6600, loss = 5.379169f-5)\n"
     ]
    },
    {
     "name": "stdout",
     "output_type": "stream",
     "text": [
      "(epoch = 6800, loss = 4.899377f-5)\n"
     ]
    },
    {
     "name": "stdout",
     "output_type": "stream",
     "text": [
      "(epoch = 7000, loss = 4.4613043f-5)\n"
     ]
    },
    {
     "name": "stdout",
     "output_type": "stream",
     "text": [
      "(epoch = 7200, loss = 4.0589908f-5)\n"
     ]
    },
    {
     "name": "stdout",
     "output_type": "stream",
     "text": [
      "(epoch = 7400, loss = 3.6983973f-5)\n"
     ]
    },
    {
     "name": "stdout",
     "output_type": "stream",
     "text": [
      "(epoch = 7600, loss = 3.3646236f-5)\n"
     ]
    },
    {
     "name": "stdout",
     "output_type": "stream",
     "text": [
      "(epoch = 7800, loss = 3.06065f-5)\n"
     ]
    },
    {
     "name": "stdout",
     "output_type": "stream",
     "text": [
      "(epoch = 8000, loss = 2.7864771f-5)\n"
     ]
    },
    {
     "name": "stdout",
     "output_type": "stream",
     "text": [
      "(epoch = 8200, loss = 2.530184f-5)\n"
     ]
    },
    {
     "name": "stdout",
     "output_type": "stream",
     "text": [
      "(epoch = 8400, loss = 2.3066721f-5)\n"
     ]
    },
    {
     "name": "stdout",
     "output_type": "stream",
     "text": [
      "(epoch = 8600, loss = 2.098061f-5)\n"
     ]
    },
    {
     "name": "stdout",
     "output_type": "stream",
     "text": [
      "(epoch = 8800, loss = 1.9043497f-5)\n"
     ]
    },
    {
     "name": "stdout",
     "output_type": "stream",
     "text": [
      "(epoch = 9000, loss = 1.7314995f-5)\n"
     ]
    },
    {
     "name": "stdout",
     "output_type": "stream",
     "text": [
      "(epoch = 9200, loss = 1.5735499f-5)\n"
     ]
    },
    {
     "name": "stdout",
     "output_type": "stream",
     "text": [
      "(epoch = 9400, loss = 1.4305009f-5)\n"
     ]
    },
    {
     "name": "stdout",
     "output_type": "stream",
     "text": [
      "(epoch = 9600, loss = 1.29341215f-5)\n"
     ]
    },
    {
     "name": "stdout",
     "output_type": "stream",
     "text": [
      "(epoch = 9800, loss = 1.1742044f-5)\n"
     ]
    },
    {
     "name": "stdout",
     "output_type": "stream",
     "text": [
      "(epoch = 10000, loss = 1.0698975f-5)\n"
     ]
    }
   ],
   "source": [
    "model = GCN(num_features, num_classes)\n",
    "opt_state = Flux.setup(AdamW(1e-2), model)\n",
    "epochs = 10000\n",
    "\n",
    "function report(epoch, loss)\n",
    "    println((; epoch, loss))\n",
    "end\n",
    "\n",
    "report(0, Inf)\n",
    "for epoch in 1:epochs\n",
    "    loss, grads = Flux.withgradient(model) do model\n",
    "        ŷ, emb = model(g, g.ndata.x)\n",
    "        logitcrossentropy(ŷ[:, train_mask], y[:, train_mask])\n",
    "    end\n",
    "\n",
    "    Flux.update!(opt_state, model, grads[1])\n",
    "    if epoch % 200 == 0\n",
    "        report(epoch, loss)\n",
    "    end\n",
    "end"
   ]
  },
  {
   "cell_type": "code",
   "execution_count": 15,
   "metadata": {},
   "outputs": [
    {
     "data": {
      "text/plain": [
       "(Float32[1.2480338 1.2870314 … 12.100139 12.070936; 13.099802 13.113997 … -0.24358645 -0.20657605; 1.0239704 0.984712 … -12.734783 -12.697578; -12.253804 -12.265931 … 0.30469286 0.26988137], Float32[0.9960584 0.99404913 … -0.9997268 -0.9942645; 0.9955566 0.9999856 … 0.9999097 0.9999764])"
      ]
     },
     "metadata": {},
     "output_type": "display_data"
    }
   ],
   "source": [
    "ŷ, emb_final = model(g, g.ndata.x)"
   ]
  },
  {
   "cell_type": "code",
   "execution_count": 16,
   "metadata": {},
   "outputs": [
    {
     "data": {
      "text/plain": [
       "1.0"
      ]
     },
     "metadata": {},
     "output_type": "display_data"
    }
   ],
   "source": [
    "# train accuracy\n",
    "mean(onecold(ŷ[:, train_mask]) .== onecold(y[:, train_mask]))"
   ]
  },
  {
   "cell_type": "code",
   "execution_count": 17,
   "metadata": {},
   "outputs": [
    {
     "data": {
      "text/plain": [
       "0.8"
      ]
     },
     "metadata": {},
     "output_type": "display_data"
    }
   ],
   "source": [
    "# test accuracy\n",
    "mean(onecold(ŷ[:, .!train_mask]) .== onecold(y[:, .!train_mask]))"
   ]
  },
  {
   "cell_type": "code",
   "execution_count": 18,
   "metadata": {},
   "outputs": [
    {
     "data": {
      "image/png": "[encoded data removed]"
     },
     "metadata": {},
     "output_type": "display_data"
    }
   ],
   "source": [
    "visualize_embeddings(emb_final, colors = labels)\n"
   ]
  },
  {
   "attachments": {},
   "cell_type": "markdown",
   "metadata": {},
   "source": [
    "As one can see, our 3-layer GCN model manages to linearly separating the communities and classifying most of the nodes correctly.\n",
    "\n",
    "Furthermore, we did this all with a few lines of code, thanks to the GraphNeuralNetworks.jl which helped us out with data handling and GNN implementations."
   ]
  }
 ],
 "metadata": {
  "kernelspec": {
   "display_name": "Julia 1.9.0-rc3",
   "language": "julia",
   "name": "julia-1.9"
  },
  "language_info": {
   "file_extension": ".jl",
   "mimetype": "application/julia",
   "name": "julia",
   "version": "1.9.0-rc3"
  },
  "orig_nbformat": 4
 },
 "nbformat": 4,
 "nbformat_minor": 2
}
